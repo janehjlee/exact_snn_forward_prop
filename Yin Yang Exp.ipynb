{
 "cells": [
  {
   "cell_type": "markdown",
   "id": "3ee34fec-0ef5-482f-8e12-4c7625136255",
   "metadata": {},
   "source": [
    "### Yin-Yang Dataset"
   ]
  },
  {
   "cell_type": "code",
   "execution_count": null,
   "id": "7ac4506b-413b-405a-ba23-7492a5300bd5",
   "metadata": {},
   "outputs": [],
   "source": [
    "import multiprocess as mp\n",
    "import numpy as np\n",
    "from numpy_ml.neural_nets.optimizers import Adam\n",
    "import os\n",
    "import matplotlib.pyplot as plt\n",
    "import sys\n",
    "import time\n",
    "from torch.utils.data import DataLoader\n",
    "\n",
    "sys.path.append(os.path.relpath(\"py/snn_gradients.py\"))\n",
    "sys.path.append(os.path.relpath(\"py/dataset.py\"))"
   ]
  },
  {
   "cell_type": "code",
   "execution_count": null,
   "id": "af7a019e-34e3-4980-b83c-80dd63fdc28d",
   "metadata": {},
   "outputs": [],
   "source": [
    "import py.snn_gradients as snn\n",
    "import py.dataset as dataset"
   ]
  },
  {
   "cell_type": "markdown",
   "id": "3cc3a625-f1df-49d5-ba5f-d40e9e53bc68",
   "metadata": {},
   "source": [
    "### Set Up Datasets\n",
    "\n",
    "Code used to load and visualize the dataset was provided by https://github.com/lkriener/yin_yang_data_set"
   ]
  },
  {
   "cell_type": "code",
   "execution_count": null,
   "id": "0b29e436-d236-4001-ab93-e7a4a1e4eff7",
   "metadata": {},
   "outputs": [],
   "source": [
    "dataset_train = dataset.YinYangDataset(size=5000, seed=42)\n",
    "dataset_validation = dataset.YinYangDataset(size=1000, seed=41)\n",
    "dataset_test = dataset.YinYangDataset(size=1000, seed=40)"
   ]
  },
  {
   "cell_type": "code",
   "execution_count": null,
   "id": "90b637d7-6406-4a4f-bd5f-7ebaf961f09d",
   "metadata": {},
   "outputs": [],
   "source": [
    "batchsize_train = 20\n",
    "batchsize_eval = len(dataset_test)\n",
    "\n",
    "train_loader = DataLoader(dataset_train, batch_size=batchsize_train, shuffle=True)\n",
    "val_loader = DataLoader(dataset_validation, batch_size=batchsize_eval, shuffle=True)\n",
    "test_loader = DataLoader(dataset_test, batch_size=batchsize_eval, shuffle=False)"
   ]
  },
  {
   "cell_type": "code",
   "execution_count": null,
   "id": "a9ed7711-2d6b-456c-b8a2-098f344f98dc",
   "metadata": {},
   "outputs": [],
   "source": [
    "fig, axes = plt.subplots(ncols=3, sharey=True, figsize=(15, 8))\n",
    "titles = ['Training set', 'Validation set', 'Test set']\n",
    "for i, loader in enumerate([train_loader, val_loader, test_loader]):\n",
    "    axes[i].set_title(titles[i])\n",
    "    axes[i].set_aspect('equal', adjustable='box')\n",
    "    xs = []\n",
    "    ys = []\n",
    "    cs = []\n",
    "    for batch, batch_labels in loader:\n",
    "        for j, item in enumerate(batch):\n",
    "            x1, y1, x2, y2 = item\n",
    "            c = batch_labels[j]\n",
    "            xs.append(x1)\n",
    "            ys.append(y1)\n",
    "            cs.append(c)\n",
    "    xs = np.array(xs)\n",
    "    ys = np.array(ys)\n",
    "    cs = np.array(cs)\n",
    "    axes[i].scatter(xs[cs == 0], ys[cs == 0], color='C0', edgecolor='k', alpha=0.7)\n",
    "    axes[i].scatter(xs[cs == 1], ys[cs == 1], color='C1', edgecolor='k', alpha=0.7)\n",
    "    axes[i].scatter(xs[cs == 2], ys[cs == 2], color='C2', edgecolor='k', alpha=0.7)\n",
    "    axes[i].set_xlabel('x1')\n",
    "    if i == 0:\n",
    "        axes[i].set_ylabel('y1')"
   ]
  },
  {
   "cell_type": "markdown",
   "id": "28173863-b870-4917-b4ec-24e6c4147007",
   "metadata": {},
   "source": [
    "### Set Up Network"
   ]
  },
  {
   "cell_type": "code",
   "execution_count": null,
   "id": "2fcd7ae3-d311-4cee-a214-20d98b7efbba",
   "metadata": {},
   "outputs": [],
   "source": [
    "# Hyperparams\n",
    "BETA = 0.05\n",
    "ALPHA = 0.2\n",
    "# BETA = 1.0\n",
    "# ALPHA = 0.2\n",
    "THETA = 1.0\n",
    "T = 10\n",
    "\n",
    "# loss hyper params\n",
    "TAU_0 = 0.5\n",
    "TAU_1 = 6.4\n",
    "GAMMA = 0.003\n",
    "\n",
    "# optimizer params\n",
    "BETA_1 = 0.9\n",
    "BETA_2 = 0.999\n",
    "EPS = 1e-8\n",
    "ETA = 0.005"
   ]
  },
  {
   "cell_type": "code",
   "execution_count": null,
   "id": "8c01700b-6fc2-4626-8a7f-cfd12536ed93",
   "metadata": {},
   "outputs": [],
   "source": [
    "adam = Adam(\n",
    "    lr=ETA, \n",
    "    decay1=BETA_1, \n",
    "    decay2=BETA_2, \n",
    "    eps=EPS,\n",
    "    lr_scheduler=None\n",
    ")"
   ]
  },
  {
   "cell_type": "code",
   "execution_count": null,
   "id": "1417859f-6b28-4751-82dc-1db4a7a61c1d",
   "metadata": {},
   "outputs": [],
   "source": [
    "ce_loss = snn.SnnCrossEntropy(\n",
    "    num_classes=3,\n",
    "    T=T,\n",
    "    alpha=ALPHA,\n",
    "    beta=BETA,\n",
    "    theta=THETA,\n",
    "    tau_0=TAU_0,\n",
    "    tau_1=TAU_1,\n",
    "    gamma=GAMMA,\n",
    ")"
   ]
  },
  {
   "cell_type": "code",
   "execution_count": null,
   "id": "2beef4ba-0c5a-4a6a-912c-ac620cdc3980",
   "metadata": {},
   "outputs": [],
   "source": [
    "net = snn.FeedForwardSNN(\n",
    "    in_dim=4,\n",
    "    beta=BETA, \n",
    "    alpha=ALPHA, \n",
    "    threshold=THETA, \n",
    "    layer_sizes=[50, 3],\n",
    "    weights=[[np.random.normal(1.5, 0.78, 4) for i in range(50)],\n",
    "             [np.random.normal(0.93, 0.1, 50) for i in range(3)]]\n",
    ").build()"
   ]
  },
  {
   "cell_type": "code",
   "execution_count": null,
   "id": "7b87fd54-bd56-4cbd-b2f1-c89cc290a6f0",
   "metadata": {},
   "outputs": [],
   "source": [
    "def train_single_example(data, labels, T, model, loss):\n",
    "    out = model.forward(data, T)\n",
    "    pred = np.argmin(np.asarray([np.min(out[1][-1][i], initial=T) for i in range(len(out[1][-1]))]))\n",
    "    acc = np.sum(pred == labels)\n",
    "    l = loss.forward(out[1][-1], labels)\n",
    "    grad = loss.backward(\n",
    "        out[0],\n",
    "        out[1],\n",
    "        out[2],\n",
    "        labels,\n",
    "        out[3],\n",
    "        out[4]\n",
    "    )\n",
    "    n_i = out[5]\n",
    "    return acc, l, grad, n_i"
   ]
  },
  {
   "cell_type": "markdown",
   "id": "782dad7a-7769-45b1-a0bf-d9c883380d87",
   "metadata": {},
   "source": [
    "### Train the SNN"
   ]
  },
  {
   "cell_type": "code",
   "execution_count": null,
   "id": "38548628-0418-4f55-b5ef-85257d81d1c3",
   "metadata": {},
   "outputs": [],
   "source": [
    "#with mp.Pool(np.min([mp.cpu_count(), batchsize_train])) as pool:\n",
    "start_time = time.perf_counter()\n",
    "losses=[]\n",
    "for k in range(5):\n",
    "    for i, (batch, batch_labels) in enumerate(train_loader):\n",
    "\n",
    "        batch_loss = 0\n",
    "        batch_acc = 0\n",
    "        batch_grad = [np.zeros_like(w, dtype=np.float64) for w in net.weights]\n",
    "        batch_ro = []\n",
    "        bsz = len(batch)\n",
    "\n",
    "        for j in range(bsz):\n",
    "\n",
    "            data = batch[j].numpy() * T\n",
    "            data = np.reshape(data, (4, 1))\n",
    "            label = batch_labels[j].numpy()\n",
    "            a, l, g, ro = train_single_example(data,\n",
    "                                        label,\n",
    "                                        T,\n",
    "                                        net,\n",
    "                                        ce_loss)\n",
    "            batch_acc += a/bsz\n",
    "            batch_loss += l/bsz\n",
    "            batch_grad = [batch_grad[k] + 1/bsz * g[k] for k in range(len(g))]\n",
    "            batch_ro.append(ro)\n",
    "\n",
    "        losses.append(batch_loss)\n",
    "        new_weights = [adam.update(net.weights[i], batch_grad[i], \"w_layer_{i}\".format(i=i)) for i in range(len(batch_grad))]\n",
    "        #new_weights = [net.weights[i] - ETA * batch_grad[i] for i in range(len(batch_grad))]\n",
    "        net.update(new_weights, T, batch_ro, -10)\n",
    "\n",
    "        if i % 10 == 0:\n",
    "            end_time = time.perf_counter()\n",
    "            print(\"Time elapsed (sec)=\", end_time - start_time)\n",
    "            print(\"loss=\", batch_loss)\n",
    "            print(\"acc=\", batch_acc)"
   ]
  },
  {
   "cell_type": "markdown",
   "id": "aa735984-522d-4f55-b536-30761803835c",
   "metadata": {},
   "source": [
    "### Inspect and visualize predictions"
   ]
  },
  {
   "cell_type": "code",
   "execution_count": null,
   "id": "54c5c297-9661-4dfd-ad26-737748868084",
   "metadata": {},
   "outputs": [],
   "source": [
    "fig, axes = plt.subplots(ncols=2, sharey=True, figsize=(15, 8))\n",
    "titles = ['Predictions', 'Test Set']\n",
    "pred_cs = []\n",
    "for i, loader in enumerate([test_loader, test_loader]):\n",
    "    axes[i].set_title(titles[i])\n",
    "    axes[i].set_aspect('equal', adjustable='box')\n",
    "    xs = []\n",
    "    ys = []\n",
    "    cs = []\n",
    "    for batch, batch_labels in loader:\n",
    "        for j, item in enumerate(batch):\n",
    "            x1, y1, x2, y2 = item\n",
    "            if i == 1:\n",
    "                c = batch_labels[j]\n",
    "            else:\n",
    "                data = (np.reshape(item.numpy() * T, (4, 1)))\n",
    "                #print(data)\n",
    "                output = net.forward(data, T)[1][-1]\n",
    "                #print(output)\n",
    "                pred = np.argmin(np.asarray([np.min(output[i], initial=T) for i in range(len(output))]))\n",
    "                #print(pred)\n",
    "                c = pred\n",
    "            xs.append(x1)\n",
    "            ys.append(y1)\n",
    "            cs.append(c)\n",
    "    xs = np.array(xs)\n",
    "    ys = np.array(ys)\n",
    "    cs = np.array(cs)\n",
    "    if i == 0:\n",
    "        pred_cs = cs\n",
    "    axes[i].scatter(xs[cs == 0], ys[cs == 0], color='C0', edgecolor='k', alpha=0.7)\n",
    "    axes[i].scatter(xs[cs == 1], ys[cs == 1], color='C1', edgecolor='k', alpha=0.7)\n",
    "    axes[i].scatter(xs[cs == 2], ys[cs == 2], color='C2', edgecolor='k', alpha=0.7)\n",
    "    axes[i].set_xlabel('x1')\n",
    "    if i == 0:\n",
    "        axes[i].set_ylabel('y1')"
   ]
  },
  {
   "cell_type": "code",
   "execution_count": null,
   "id": "d3d51d99-1083-4b80-aa04-23dfa7e39ca3",
   "metadata": {},
   "outputs": [],
   "source": [
    "np.sum(pred_cs == cs)"
   ]
  },
  {
   "cell_type": "code",
   "execution_count": null,
   "id": "0682f88c-2339-4baf-ade5-904e834eee66",
   "metadata": {},
   "outputs": [],
   "source": [
    "plt.plot(losses)\n",
    "plt.show()"
   ]
  }
 ],
 "metadata": {
  "kernelspec": {
   "display_name": "jupyter-nb-default",
   "language": "python",
   "name": "jupyter-nb-default"
  },
  "language_info": {
   "codemirror_mode": {
    "name": "ipython",
    "version": 3
   },
   "file_extension": ".py",
   "mimetype": "text/x-python",
   "name": "python",
   "nbconvert_exporter": "python",
   "pygments_lexer": "ipython3",
   "version": "3.9.7"
  }
 },
 "nbformat": 4,
 "nbformat_minor": 5
}
